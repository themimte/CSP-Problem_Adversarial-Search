{
 "cells": [
  {
   "cell_type": "markdown",
   "metadata": {},
   "source": [
    "<div align=center>\n",
    "\t\t\n",
    "<p></p>\n",
    "<p></p>\n",
    "<font size=5>\n",
    "In the Name of God\n",
    "<font/>\n",
    "<p></p>\n",
    " <br/>\n",
    "    <br/>\n",
    "    <br/>\n",
    "<font color=#FF7500>\n",
    "Sharif University of Technology - Department of Computer Engineering\n",
    "</font>\n",
    "<p></p>\n",
    "<font color=blue>\n",
    "Artifical Intelligence - Dr. Mohammad Hossein Rohban\n",
    "</font>\n",
    "<br/>\n",
    "<br/>\n",
    "Fall 2021\n",
    "\n",
    "</div>\n",
    "\n",
    "<hr/>\n",
    "\t\t<div align=center>\n",
    "\t\t    <font color=red size=6>\n",
    "\t\t\t    <br />\n",
    "Practical Assignment 2\n",
    "            \t<br/>\n",
    "\t\t\t</font>\n",
    "    <br/>\n",
    "    <br/>\n",
    "<font size=4>\n",
    "\t\t\t<br/><br/>\n",
    "Deadline:  Aban 27th\n",
    "                <br/><b>\n",
    "              Cheating is Strongly Prohibited\n",
    "                </b><br/><br/>\n",
    "                <font color=red>\n",
    "Please run all the cells.\n",
    "     </font>\n",
    "</font>\n",
    "                <br/>\n",
    "    </div>"
   ]
  },
  {
   "cell_type": "markdown",
   "metadata": {},
   "source": [
    "# Personal Data"
   ]
  },
  {
   "cell_type": "code",
   "execution_count": 9,
   "metadata": {
    "collectable": true,
    "execution": {
     "iopub.execute_input": "2021-10-01T16:01:36.762477Z",
     "iopub.status.busy": "2021-10-01T16:01:36.762155Z",
     "iopub.status.idle": "2021-10-01T16:01:36.764025Z",
     "shell.execute_reply": "2021-10-01T16:01:36.763754Z"
    }
   },
   "outputs": [],
   "source": [
    "# Set your student number\n",
    "student_number = 96101902\n",
    "Name = 'Mohammadreza'\n",
    "Last_Name = 'Taremi'"
   ]
  },
  {
   "cell_type": "markdown",
   "metadata": {},
   "source": [
    "# Rules\n",
    "- You are not allowed to add or remove cells. You **must use the provided space to write your code**. If you don't follow this rule, **your Practical Assignment won't be graded**. \n",
    "- There is one cell for your custom functions (if you need any) at the beginning of each question. Please note that this jupyter file might be broken down into 3 jupyter notebooks for easier grading, so you **must write your custom functions in the correct cell**.\n",
    "- By running the cell below, you can see if your jupyter file is accepted or not. This cell will also **generate a python file which you'll have to upload to Quera** (as well as your jupyter file). The python file will later be validated and if the code in both files doesn't match, **your Practical Assignment won't be graded**.\n",
    "- This assignment is due Aban 27th 23:59:59. you can use up to 10 grace days for this assignment and the hard deadline is Azar 7th 23:59:59."
   ]
  },
  {
   "cell_type": "code",
   "execution_count": 10,
   "metadata": {},
   "outputs": [
    {
     "name": "stdout",
     "output_type": "stream",
     "text": [
      "your jupyter file will be graded\n"
     ]
    }
   ],
   "source": [
    "# remember to save your jupyter file before running this script\n",
    "from Helper_codes.validator import *\n",
    "\n",
    "python_code = extract_python(\"./questions.ipynb\")\n",
    "with open(f'python_code_{student_number}.py', 'w') as file:\n",
    "    file.write(python_code)"
   ]
  },
  {
   "cell_type": "markdown",
   "metadata": {},
   "source": [
    "# Q1 (30 Points + 5 Extra Points)"
   ]
  },
  {
   "cell_type": "markdown",
   "metadata": {},
   "source": [
    "<font size=4>\n",
    "Author: Reza Amini\n",
    "\t\t\t<br/>\n",
    "                <font color=red>\n",
    "Please run all the cells.\n",
    "     </font>\n",
    "</font>\n",
    "                <br/>\n",
    "    </div>"
   ]
  },
  {
   "cell_type": "markdown",
   "metadata": {},
   "source": [
    "## Libraries"
   ]
  },
  {
   "cell_type": "code",
   "execution_count": 11,
   "metadata": {
    "collectable": true
   },
   "outputs": [],
   "source": [
    "import numpy as np\n",
    "from typing import Tuple\n",
    "from matplotlib import pyplot as plt\n",
    "import numdifftools as nd"
   ]
  },
  {
   "cell_type": "markdown",
   "metadata": {},
   "source": [
    "<div>\n",
    "\t<font size=3>\n",
    "        <hr/>\n",
    "            In this part of the question, we want to implement the functions and draw diagrams and discuss about the convexity of functions\n",
    "           <hr/>\n",
    "    </font>\n",
    "</div>"
   ]
  },
  {
   "cell_type": "markdown",
   "metadata": {},
   "source": [
    "## Functions"
   ]
  },
  {
   "cell_type": "markdown",
   "metadata": {},
   "source": [
    "a)\n",
    "$f_1(x) = \\frac{x^2 cos(\\frac{x}{10}) - x}{100} \\quad $ where $\\quad x \\in [80, 110]$\n",
    "<br/>\n",
    "b)\n",
    "$f_2(x) = \\log (\\sqrt{sin \\frac{x}{20}}) \\quad $ where $\\quad x \\in [1, 60]$\n",
    "<br/>\n",
    "c)\n",
    "$f_3(x) = \\log (\\cos(x) + \\frac{45}{x}) \\quad $ where $\\quad x \\in [1, 45]$"
   ]
  },
  {
   "cell_type": "markdown",
   "metadata": {},
   "source": [
    "<div>\n",
    "    <font size=3>\n",
    "In the first step, implement the functions.\n",
    "     </font>\n",
    "</div>"
   ]
  },
  {
   "cell_type": "code",
   "execution_count": 12,
   "metadata": {
    "collectable": true
   },
   "outputs": [],
   "source": [
    "def f_1(x):\n",
    "    ############################################################\n",
    "    # (0.5 Points)                                               #\n",
    "    ############################################################\n",
    "    return 0.01*((x**2)*np.cos(x/10)-x)"
   ]
  },
  {
   "cell_type": "code",
   "execution_count": 13,
   "metadata": {
    "collectable": true
   },
   "outputs": [],
   "source": [
    "def f_2(x):\n",
    "    ############################################################\n",
    "    # (0.5 Points)                                               #\n",
    "    ############################################################\n",
    "    return np.log(np.sqrt(np.sin(x/20)))"
   ]
  },
  {
   "cell_type": "code",
   "execution_count": 14,
   "metadata": {
    "collectable": true
   },
   "outputs": [],
   "source": [
    "def f_3(x):\n",
    "    ############################################################\n",
    "    # (0.5 Points)                                               #\n",
    "    ############################################################\n",
    "    return np.log(np.cos(x) + 45/x)"
   ]
  },
  {
   "cell_type": "markdown",
   "metadata": {},
   "source": [
    "<div>\n",
    "    <font size=3>\n",
    "    Now implement a function to plot the mathematical functions\n",
    "     </font>\n",
    "</div>"
   ]
  },
  {
   "cell_type": "code",
   "execution_count": 15,
   "metadata": {
    "collectable": true
   },
   "outputs": [],
   "source": [
    "def draw(func, x_range):\n",
    "    ############################################################\n",
    "    # (0.5 Points)                                               #\n",
    "    ############################################################\n",
    "    plt.figure(0)\n",
    "    plt.plot(x_range,func(x_range))\n",
    "    plt.title('Diagram')\n",
    "    plt.xlabel('x')\n",
    "    plt.ylabel('y')"
   ]
  },
  {
   "cell_type": "code",
   "execution_count": 16,
   "metadata": {},
   "outputs": [
    {
     "data": {
      "image/png": "[encoded data removed]",
      "text/plain": [
       "<Figure size 432x288 with 1 Axes>"
      ]
     },
     "metadata": {
      "needs_background": "light"
     },
     "output_type": "display_data"
    }
   ],
   "source": [
    "draw(f_1, np.arange(80, 110 + 1))"
   ]
  },
  {
   "cell_type": "code",
   "execution_count": 17,
   "metadata": {},
   "outputs": [
    {
     "data": {
      "image/png": "[encoded data removed]",
      "text/plain": [
       "<Figure size 432x288 with 1 Axes>"
      ]
     },
     "metadata": {
      "needs_background": "light"
     },
     "output_type": "display_data"
    }
   ],
   "source": [
    "draw(f_2, np.arange(1, 60 + 1))"
   ]
  },
  {
   "cell_type": "code",
   "execution_count": 18,
   "metadata": {},
   "outputs": [
    {
     "data": {
      "image/png": "[encoded data removed]",
      "text/plain": [
       "<Figure size 432x288 with 1 Axes>"
      ]
     },
     "metadata": {
      "needs_background": "light"
     },
     "output_type": "display_data"
    }
   ],
   "source": [
    "draw(f_3, np.arange(1, 45 + 1))"
   ]
  },
  {
   "cell_type": "markdown",
   "metadata": {},
   "source": [
    "<div>\n",
    "    <font size=3>\n",
    "    Discuss the Convexity of each function according to the diagrams\n",
    "     </font>\n",
    "</div>"
   ]
  },
  {
   "cell_type": "markdown",
   "metadata": {},
   "source": [
    "<font color=blue>\n",
    "    (5 Points) <br/>\n",
    "Based on the definition of convex functions, a convex function is a function in which line segment between any two points on the graph of the function does not lie below the graph between the two points. Therefore, the first diagram is the only convex function among all.\n",
    "</font>"
   ]
  },
  {
   "cell_type": "markdown",
   "metadata": {},
   "source": [
    "<div>\n",
    "    <font size=3>\n",
    "what method do you suggest to find the maximum in the second function?\n",
    "     </font>\n",
    "</div>"
   ]
  },
  {
   "cell_type": "markdown",
   "metadata": {},
   "source": [
    "<font color=blue>\n",
    "    (3 Points) <br/>\n",
    "We can reverse the function(by multiplying it by -1) and then apply the gradient descent algorithm to find the minimum.\n",
    "</font>"
   ]
  },
  {
   "cell_type": "markdown",
   "metadata": {},
   "source": [
    "<div>\n",
    "    <font size=3>\n",
    "        <hr/>\n",
    "        <ul>\n",
    "            In this part, we want to obtain a minimum of one of the above functions with the gradiant descent algorithm\n",
    "        </ul>  \n",
    "        <hr/>\n",
    "    </font>\n",
    "</div>"
   ]
  },
  {
   "cell_type": "markdown",
   "metadata": {},
   "source": [
    "## Gradiant descent"
   ]
  },
  {
   "cell_type": "markdown",
   "metadata": {},
   "source": [
    "<div>\n",
    "    <font size=3>\n",
    "    Complete gradiant descent function and calculate the minimum of function (a).\n",
    "     </font>\n",
    "</div>"
   ]
  },
  {
   "cell_type": "code",
   "execution_count": 19,
   "metadata": {
    "collectable": true
   },
   "outputs": [],
   "source": [
    "def gradiant_descent(func, initial_point: float, learning_rate: float, max_iterations: int):\n",
    "    ############################################################\n",
    "    # (7 Points)                                              #\n",
    "    ############################################################\n",
    "    x = np.zeros(max_iterations)\n",
    "    x[0] = initial_point\n",
    "    for iterations in range(max_iterations-1):\n",
    "        ####\n",
    "        x[iterations+1] = x[iterations] - learning_rate*(nd.Gradient(func)([x[iterations]]))\n",
    "        ####\n",
    "    min = x[-1]\n",
    "    return min"
   ]
  },
  {
   "cell_type": "code",
   "execution_count": 20,
   "metadata": {
    "scrolled": true
   },
   "outputs": [
    {
     "data": {
      "text/plain": [
       "96.30594623000682"
      ]
     },
     "execution_count": 20,
     "metadata": {},
     "output_type": "execute_result"
    }
   ],
   "source": [
    "gradiant_descent(\n",
    "    func=f_1, \n",
    "    initial_point=np.random.uniform(80, 110), \n",
    "    learning_rate=0.05, \n",
    "    max_iterations=1000\n",
    ")"
   ]
  },
  {
   "cell_type": "markdown",
   "metadata": {},
   "source": [
    "<div>\n",
    "    <font size=3>\n",
    "In the last part, we want to investigate the effect of the learning rate hyperparameter on the gradiant descent algorithm with a new function     \n",
    "    </font>\n",
    "</div>"
   ]
  },
  {
   "cell_type": "markdown",
   "metadata": {},
   "source": [
    "## Function"
   ]
  },
  {
   "cell_type": "markdown",
   "metadata": {},
   "source": [
    "$f(x_1, x_2) = 2x_1^2 + 3x_2^2 - 4x_1x_2 - 50x + 6y$"
   ]
  },
  {
   "cell_type": "code",
   "execution_count": 59,
   "metadata": {
    "collectable": true
   },
   "outputs": [],
   "source": [
    "def f(x_1, x_2):\n",
    "    ############################################################\n",
    "    # (1 Points)                                               #\n",
    "    ############################################################\n",
    "    return 2*x_1**2 + 3*x_2**2 - 4*x_1*x_2 - 50*x_1 + 6*x_2\n",
    "initial_point = (-100, 100)\n",
    "x_1_sequence = [initial_point[0]]\n",
    "x_1_sequence.append(-91.5)\n",
    "\n",
    "x_2_sequence = [initial_point[1]]\n",
    "x_2_sequence.append(97.94)\n",
    "\n",
    "iterations = 0\n",
    "while iterations<25:\n",
    "    x_1_sequence.append(x_1_sequence[-1] - 0.05*(4*x_1_sequence[-1]-4*x_2_sequence[-1] - 50))\n",
    "    x_2_sequence.append(x_2_sequence[-1] - 0.05*(6*x_2_sequence[-1]-4*x_2_sequence[-1] + 6))\n",
    "    iterations = iterations + 1 "
   ]
  },
  {
   "cell_type": "markdown",
   "metadata": {},
   "source": [
    "<div>\n",
    "    <font size=3>\n",
    "Implement gradiant descent function for two-dimensional functions, in such a way that it gives sequence of x_1 and x_2 in the output ()\n",
    "    </font>\n",
    "</div>"
   ]
  },
  {
   "cell_type": "code",
   "execution_count": 80,
   "metadata": {
    "collectable": true
   },
   "outputs": [],
   "source": [
    "def gradiant_descent(func, initial_point: Tuple, learning_rate: float, threshold: float, max_iterations: int):\n",
    "    iterations = 0\n",
    "    # Threshold: if either the value of x1 or x2 is greater than this value, the algorithm ends\n",
    "    # implement your function\n",
    "    ############################################################\n",
    "    # (9 Points)                                              #\n",
    "    ############################################################\n",
    "    while iterations<max_iterations:\n",
    "        if(iterations==0):\n",
    "                x_1_sequence = [initial_point[0]]\n",
    "                x_2_sequence = [initial_point[1]]\n",
    "        else: \n",
    "            if (x_1_sequence[-1]<threshold or x_2_sequence[-1]<threshold):\n",
    "                x_1_sequence.append(x_1_sequence[-1] - learning_rate*(4*x_1_sequence[-1]-4*x_2_sequence[-1] - 50))\n",
    "                x_2_sequence.append(x_2_sequence[-1] - learning_rate*(6*x_2_sequence[-1]-4*x_1_sequence[-1] + 6))\n",
    "            elif (x_1_sequence[-1]>threshold or x_2_sequence[-1]>threshold):\n",
    "                break\n",
    "        iterations = iterations + 1 \n",
    "    return x_1_sequence, x_2_sequence"
   ]
  },
  {
   "cell_type": "code",
   "execution_count": 81,
   "metadata": {},
   "outputs": [],
   "source": [
    "def draw_points_sequence(func, x_1_sequence, x_2_sequence):\n",
    "    X1, X2 = np.meshgrid(np.linspace(-100.0, 100.0, 100), np.linspace(-100.0, 100.0, 100))\n",
    "    Y = func(X1, X2)\n",
    "    cp = plt.contour(X1, X2, Y, colors='black', linestyles='dashed', linewidths=1)\n",
    "    plt.clabel(cp, inline=1, fontsize=10)\n",
    "    cp = plt.contourf(X1, X2, Y, )\n",
    "    plt.xlabel('X1')\n",
    "    plt.ylabel('X2')\n",
    "    plt.scatter(x_1_sequence, x_2_sequence, s=10, c=\"y\")\n",
    "    plt.show()"
   ]
  },
  {
   "cell_type": "markdown",
   "metadata": {},
   "source": [
    "<div>\n",
    "    <font size=3>\n",
    "    Run the gradiant descent algorithm for each of the learning rate values and use the above function to draw diagram\n",
    "    </font>\n",
    "</div>"
   ]
  },
  {
   "cell_type": "code",
   "execution_count": 82,
   "metadata": {},
   "outputs": [],
   "source": [
    "initial_point = (-100, 100)\n",
    "learning_rates = [0.01, 0.05, 0.19, 0.4]\n",
    "threshold = 100\n",
    "max_iterations = 1000"
   ]
  },
  {
   "cell_type": "code",
   "execution_count": 84,
   "metadata": {
    "collectable": true
   },
   "outputs": [
    {
     "data": {
      "image/png": "[encoded data removed]",
      "text/plain": [
       "<Figure size 432x288 with 1 Axes>"
      ]
     },
     "metadata": {
      "needs_background": "light"
     },
     "output_type": "display_data"
    }
   ],
   "source": [
    "# learning rate 0.01\n",
    "    ############################################################\n",
    "    # (0.5 Points)                                             #\n",
    "    ############################################################\n",
    "x_1_sequence,x_2_sequence = gradiant_descent(f, initial_point=initial_point , learning_rate=0.01,threshold=100,max_iterations=1000)\n",
    "draw_points_sequence(f,x_1_sequence,x_2_sequence)"
   ]
  },
  {
   "cell_type": "code",
   "execution_count": 85,
   "metadata": {
    "collectable": true
   },
   "outputs": [
    {
     "data": {
      "image/png": "[encoded data removed]",
      "text/plain": [
       "<Figure size 432x288 with 1 Axes>"
      ]
     },
     "metadata": {
      "needs_background": "light"
     },
     "output_type": "display_data"
    }
   ],
   "source": [
    "# learning rate 0.05\n",
    "    ############################################################\n",
    "    # (0.5 Points)                                             #\n",
    "    ############################################################\n",
    "x_1_sequence,x_2_sequence = gradiant_descent(f, initial_point=initial_point , learning_rate=0.05,threshold=100,max_iterations=1000)\n",
    "draw_points_sequence(f,x_1_sequence,x_2_sequence)"
   ]
  },
  {
   "cell_type": "code",
   "execution_count": 86,
   "metadata": {
    "collectable": true
   },
   "outputs": [
    {
     "data": {
      "image/png": "[encoded data removed]",
      "text/plain": [
       "<Figure size 432x288 with 1 Axes>"
      ]
     },
     "metadata": {
      "needs_background": "light"
     },
     "output_type": "display_data"
    }
   ],
   "source": [
    "# learning rate 0.19\n",
    "    ############################################################\n",
    "    # (0.5 Points)                                             #\n",
    "    ############################################################\n",
    "x_1_sequence,x_2_sequence = gradiant_descent(f, initial_point=initial_point , learning_rate=0.19,threshold=100,max_iterations=1000)\n",
    "draw_points_sequence(f,x_1_sequence,x_2_sequence)"
   ]
  },
  {
   "cell_type": "code",
   "execution_count": 87,
   "metadata": {
    "collectable": true
   },
   "outputs": [
    {
     "data": {
      "image/png": "[encoded data removed]",
      "text/plain": [
       "<Figure size 432x288 with 1 Axes>"
      ]
     },
     "metadata": {
      "needs_background": "light"
     },
     "output_type": "display_data"
    }
   ],
   "source": [
    "# learning rate 0.4\n",
    "    ############################################################\n",
    "    # (0.5 Points)                                             #\n",
    "    ############################################################\n",
    "x_1_sequence,x_2_sequence = gradiant_descent(f, initial_point=initial_point , learning_rate=0.4,threshold=100,max_iterations=1000)\n",
    "draw_points_sequence(f,x_1_sequence,x_2_sequence)"
   ]
  },
  {
   "cell_type": "markdown",
   "metadata": {},
   "source": [
    "<div>\n",
    "    <font size=3>\n",
    "    explain your result comprehensively from the charts, \n",
    "    </font>\n",
    "</div>"
   ]
  },
  {
   "cell_type": "markdown",
   "metadata": {
    "collectable": true
   },
   "source": [
    "<font color=blue>\n",
    "    (6 Points) <br/>\n",
    "As it can be observed in those plots, we can conclude that we can either converge of diverge from the global minimum based on the value of learning rate. As learning rate, also known as step, increases, the steps we take through gradient descent become widers. The accuracy decreases, and we may diverge from the aim point which is the global minimum. And there is also a disadvantage regarding the low values of learning rate. And that is the higher computation cost of low steps.\n",
    "</font>"
   ]
  },
  {
   "cell_type": "markdown",
   "metadata": {},
   "source": [
    "# Q2. CSPs (30 Points)"
   ]
  },
  {
   "cell_type": "markdown",
   "metadata": {},
   "source": [
    "<font size=4>\n",
    "     Author: Alireza Tajmirriahi\n",
    "     <br/>\n",
    "     <font color=red>\n",
    "     Please run all the cells.\n",
    "     </font>\n",
    "</font>\n",
    "<br/>"
   ]
  },
  {
   "cell_type": "markdown",
   "metadata": {},
   "source": [
    "As students are preparing for midterm exams and the virtual exam days are gone and forgotten, each department is struggling to select at least one hall out of $N$ halls in the university to hold their exams. But here's the thing:\n",
    "  - Students from each department aren't really fond of sitting next to students from other departments and must be separated (for example CE students and CS students must not share the same hall for exams).\n",
    "  - Each department likes certain halls and won't hold their exams in other halls.\n",
    "  - Sadly, the exit doors in some of the halls are stuck and the hard working staff have provided some routes so that the students from specific halls need to walk through the other hall and exit after the examination. And because they would like to prevent cheating as much as possible, students in such halls cannot be from the same department.\n",
    "Check out the example below to fully understand the situation."
   ]
  },
  {
   "cell_type": "markdown",
   "metadata": {},
   "source": [
    "## Example\n",
    "Look at this picture carefully.<br>\n",
    "<img src=\"Images/CSP_example.png\" width=\"400\"/>\n",
    "  - There are $6$ halls and $3$ departments.\n",
    "  - The halls which the deparments like are indicated (for example, CE exams can be held only at Hall 1, 4 and 6).\n",
    "  - Students from Hall 1 should exit using the doors in Hall 2 (Note: they all exit there and won't continue to Hall 3). In this case, EE students cannot be in both Hall 1 and 2 (But of course, it's okay for them to be in Hall 1 and 3)."
   ]
  },
  {
   "cell_type": "markdown",
   "metadata": {},
   "source": [
    "## Note\n",
    "  - You _must_ implement and use AC-3 algorithm.\n",
    "  - You will _probably_ need to utilize the heuristic algorithms you have learned (e.g. MRV and LCV) or consider nearly tree-structured graphs approach in order to pass all tests in an appropriate time."
   ]
  },
  {
   "cell_type": "markdown",
   "metadata": {},
   "source": [
    "## Input\n",
    "  - The first line consists of $N$ (count of halls) and $M$ (count of departments).\n",
    "  - In the following $M$ lines, the $i$ th line ($1 \\le i \\le M$) is a list of preferred halls for the $i$ th department (separated by space).\n",
    "  - In the next line, $E$, the total number of exit constraints (edges in the previous graph) are given.\n",
    "  - in each of the following $E$ lines, a pair of hall numbers (separated by space) is given (reminder: the direction is important).\n",
    "$$1 \\le N \\le 50$$\n",
    "$$1 \\le M \\le 50$$\n",
    "\n",
    "### Sample Input\n",
    "This sample describes the previous example (CE=1, EE=2, ME=3).\n",
    "```\n",
    "6 3\n",
    "1 4 6\n",
    "1 2 3 5 6\n",
    "3 4 5\n",
    "5\n",
    "1 2\n",
    "2 3\n",
    "3 4\n",
    "3 5\n",
    "3 6\n",
    "```"
   ]
  },
  {
   "cell_type": "markdown",
   "metadata": {},
   "source": [
    "## Output\n",
    "In the only line, print:\n",
    "  - list of one appropriate assignment ordered by hall number (separated by space).\n",
    "  - `NO` if there isn't.\n",
    "\n",
    "### Sample Output\n",
    "One possible solution to the example above is {Hall1=CE, Hall2=EE , Hall3=ME, Hall4=CE, Hall5=EE, Hall6=EE}. So:\n",
    "```\n",
    "1 2 3 1 2 2\n",
    "```\n",
    "In another example, If Hall3 was not an option for ME, then the answer would be:\n",
    "```\n",
    "NO\n",
    "```\n",
    "Because then hall 2 or 3 would be empty."
   ]
  },
  {
   "cell_type": "markdown",
   "metadata": {},
   "source": [
    "## Your code\n",
    "**Note:** It's OK to change the signature for the given functions and the given structure is just a suggestion to help you with the implementation. (you can't remove or add any cells based on the **Rules** section)"
   ]
  },
  {
   "cell_type": "code",
   "execution_count": null,
   "metadata": {
    "collectable": true
   },
   "outputs": [],
   "source": [
    "# Auxiliary functions"
   ]
  },
  {
   "cell_type": "code",
   "execution_count": null,
   "metadata": {
    "collectable": true
   },
   "outputs": [],
   "source": [
    "def ac_3():\n",
    "    #################################################################\n",
    "    # (Point: 30% of total score obtained by tests)                 #\n",
    "    # This function returns false                                   #\n",
    "    # if an inconsistency is found and true otherwise.              #\n",
    "    # Feel free to also implement a `revise` function in this cell. #\n",
    "    #################################################################\n",
    "    pass"
   ]
  },
  {
   "cell_type": "code",
   "execution_count": null,
   "metadata": {
    "collectable": true
   },
   "outputs": [],
   "source": [
    "def backtrack():\n",
    "    #################################################################\n",
    "    # (Point: 60% of total score obtained by tests)                 #\n",
    "    # This function returns a solution if there is a complete       #\n",
    "    # assignment or failure if there is not                         #\n",
    "    #################################################################\n",
    "    pass\n",
    "\n",
    "def backtracking_search():\n",
    "    #################################################################\n",
    "    #                          (Optional)                           #\n",
    "    #   Just in case you need an auxiliary function for backtrack   #\n",
    "    #################################################################\n",
    "    return backtrack()"
   ]
  },
  {
   "cell_type": "code",
   "execution_count": null,
   "metadata": {},
   "outputs": [],
   "source": [
    "import Helper_codes.question2 as q2\n",
    "import time\n",
    "\n",
    "TIME_LIMIT = 3\n",
    "\n",
    "tests = q2.get_all_tests(prefix='q2_')\n",
    "tests_passed = 0\n",
    "for test in tests:\n",
    "    n, m, m_next_lines, e, next_e_lines = q2.scan_test_input(test)\n",
    "    #################################################################\n",
    "    # (Point: 10% of total score obtained by tests)                 #\n",
    "    # Replace this comment section with a piece of code to          #\n",
    "    # handle inputs.                                                #\n",
    "    #################################################################\n",
    "    start_time = time.time()\n",
    "    result = backtracking_search()\n",
    "    total_time = time.time() - start_time\n",
    "    if q2.is_result_valid(test, result) and total_time < TIME_LIMIT:\n",
    "        tests_passed += 1\n",
    "    else:\n",
    "        print(f'test {test} failed. time elapsed= {total_time}')\n",
    "print(f'Score = {tests_passed / len(tests) * 100}%')"
   ]
  },
  {
   "cell_type": "markdown",
   "metadata": {},
   "source": [
    "# Q3 (30+5 Points)"
   ]
  },
  {
   "cell_type": "markdown",
   "metadata": {},
   "source": [
    "<font size=4>\n",
    "Author: Matina mehdizadeh\n",
    "\t\t\t<br/>\n",
    "                <font color=red>\n",
    "Please run all the cells.\n",
    "     </font>\n",
    "</font>\n",
    "                <br/>\n",
    "    </div>"
   ]
  },
  {
   "cell_type": "code",
   "execution_count": null,
   "metadata": {
    "collectable": true
   },
   "outputs": [],
   "source": [
    "# place for your custom functions for Q3 here"
   ]
  },
  {
   "cell_type": "markdown",
   "metadata": {},
   "source": [
    "Consider the given 8*8 board game. There are two players in this game and they try to block each other and limit their valid moves by making walls. Their moves are limited to the 8 cells (or less when they are around the edges) beside them and the walls will start to appear only when a player steps into a random generated yellow cell and the wall will continue to be built until the player reaches the next yellow cell. The players start the game at (0,0) and (7,7) and they keep playing untill one of them loses. There are multiple ways for a player to win the match:\n",
    "- If a player steps into a wall or out of the board, the player loses the match and \"invalid move\" massege will appear on terminal.\n",
    "- If the players reach the maximum moves the game finishes and the winner would be chosen based on the maximum valid move they have left plus the number of walls they have made and \"No more moves\" massege will appear on terminal.\n",
    "- If the getMove() function does not return any value after 2 seconds, the player loses the match and \"Time limit exceeded\" massege will appear on terminal.\n",
    "<img src=\"Images/Q3.png\" style=\"float: center; margin-left: 250px; margin-top: 50px; width:500px;height:400px;\"/>"
   ]
  },
  {
   "cell_type": "markdown",
   "metadata": {},
   "source": [
    "In this question, the codes for starting the game were provided for you in Helper-codes folder. You are expected to implement the MinimaxPlayer class (which inherit the Player class) with alpha-beta pruning. (25 points)"
   ]
  },
  {
   "cell_type": "markdown",
   "metadata": {},
   "source": [
    "## Libraries"
   ]
  },
  {
   "cell_type": "code",
   "execution_count": null,
   "metadata": {
    "execution": {
     "iopub.execute_input": "2021-10-01T16:01:11.557956Z",
     "iopub.status.busy": "2021-10-01T16:01:11.556447Z",
     "iopub.status.idle": "2021-10-01T16:01:11.747409Z",
     "shell.execute_reply": "2021-10-01T16:01:11.746914Z"
    }
   },
   "outputs": [],
   "source": [
    "!pip install tk\n",
    "!pip install matplotlib\n",
    "import numpy as np\n",
    "import random\n",
    "from Helper_codes.graphics import *\n",
    "from Helper_codes.question3 import Cell\n",
    "from Helper_codes.question3 import IntPair\n",
    "from Helper_codes.question3 import Player\n",
    "from Helper_codes.question3 import NaivePlayer\n",
    "from Helper_codes.question3 import Board\n",
    "from Helper_codes.question3 import Game\n",
    "import time\n",
    "import matplotlib as plt"
   ]
  },
  {
   "cell_type": "markdown",
   "metadata": {},
   "source": [
    "**The following implementations are suggestional and you may change them if you desire.\n",
    "The move_ functions' purpose is to find out if a player, has a valid move on that direction.\n",
    "the purpose of checkRow and CheckCole are to check if the player's x and y is still in the board.**\n"
   ]
  },
  {
   "cell_type": "code",
   "execution_count": null,
   "metadata": {
    "collectable": true
   },
   "outputs": [],
   "source": [
    "#to do\n",
    "class MinimaxPlayer(Player):\n",
    "    \n",
    "    def __init__(self, col, x, y):\n",
    "        super().__init__(col, x, y)\n",
    "\n",
    "    def checkCol(self, x):\n",
    "        ################################################################\n",
    "        # code here                                                    #\n",
    "        ################################################################\n",
    "        pass\n",
    "    \n",
    "\n",
    "    def checkRow(self, y):\n",
    "        ################################################################\n",
    "        # code here                                                    #\n",
    "        ################################################################\n",
    "        pass\n",
    "    \n",
    "\n",
    "    def moveU(self, x, y, board):\n",
    "        ################################################################\n",
    "        # code here                                                    #\n",
    "        ################################################################\n",
    "        pass\n",
    "    \n",
    "\n",
    "    def moveD(self, x, y, board):\n",
    "        ################################################################\n",
    "        # code here                                                    #\n",
    "        ################################################################\n",
    "        pass\n",
    "\n",
    "    def moveR(self, x, y, board):\n",
    "        ################################################################\n",
    "        # code here                                                    #\n",
    "        ################################################################\n",
    "        pass\n",
    "    \n",
    "    def moveL(self, x, y, board):\n",
    "        ################################################################\n",
    "        # code here                                                    #\n",
    "        ################################################################\n",
    "        pass\n",
    "\n",
    "    def moveUR(self, x, y, board):\n",
    "        ################################################################\n",
    "        # code here                                                    #\n",
    "        ################################################################\n",
    "        pass\n",
    "    \n",
    "    def moveUL(self, x, y, board):\n",
    "        ################################################################\n",
    "        # code here                                                    #\n",
    "        ################################################################\n",
    "        pass\n",
    "\n",
    "    def moveDR(self, x, y, board):\n",
    "        ################################################################\n",
    "        # code here                                                    #\n",
    "        ################################################################\n",
    "        pass\n",
    "\n",
    "    def moveDL(self, x, y, board):\n",
    "        ################################################################\n",
    "        # code here                                                    #\n",
    "        ################################################################\n",
    "        pass\n",
    "\n",
    "    def canMove(self, x, y, board):\n",
    "        ################################################################\n",
    "        # code here                                                    #\n",
    "        ################################################################\n",
    "        pass\n",
    "\n",
    "    def minValue(self, board, alpha, beta, depth):\n",
    "        ################################################################\n",
    "        # implement the minValue function (5 points)                   #\n",
    "        # this function should return an Integer which is the minValue #                                         \n",
    "        ################################################################\n",
    "        pass\n",
    "    \n",
    "    def maxValue(self, board, alpha, beta, depth):\n",
    "        ################################################################\n",
    "        # implement the manValue function (5 points)                   #\n",
    "        # this function should return an Integer which is the manValue #                                         \n",
    "        ################################################################\n",
    "        pass\n",
    "    \n",
    "    def getMove(self, board):\n",
    "        ################################################################\n",
    "        # implement a function that returns an Inpair for player's-    #\n",
    "        # next x and y. Implementation of x and y should be in a way-  #\n",
    "        # that let the players choose any of the 8 cells around them   #\n",
    "        # (unlike the NaivePlayer which can go only in 4 direction)    #                                          \n",
    "        # pay attention that this IntPair should be calculated using   #\n",
    "        # alpha beta pruning Otherwise, you will not receive the full  #\n",
    "        # score (15 points)                                            #\n",
    "        ################################################################\n",
    "        alpha = float('-inf')\n",
    "        beta = float('inf')\n",
    "        next = IntPair(-20, -20)\n",
    "\n",
    "        if (board.getNumberOfMoves() == board.maxNumberOfMoves):\n",
    "            return IntPair(-20, -20)\n",
    "        \n",
    "        if not (self.canMove(board.getPlayerX(self.getCol()), board.getPlayerY(self.getCol()), board)):\n",
    "            return IntPair(-10, -10)\n",
    "        \n",
    "        if (self.getCol() == 1):\n",
    "            ################################################################\n",
    "            # code here                                                    #\n",
    "            ################################################################\n",
    "            pass\n",
    "\n",
    "        else:\n",
    "            ################################################################\n",
    "            # code here                                                    #\n",
    "            ################################################################\n",
    "            pass\n",
    "        pass"
   ]
  },
  {
   "cell_type": "markdown",
   "metadata": {},
   "source": [
    "If you run the game once (numberOfMatches = 1) the game window will open and you would be able to observe the players behaviour and the reason why the winner has won, will appear on terminal.\n",
    "If you run the game for more than one match (numberOfMatches > 1) the graphic window and the comments on terminal would not show up. This is for the time you finish implementing the MinimaxPlayer class and you want to verify the functionality of your code; also, for next part of the question, in which you should plot the scores for the first player."
   ]
  },
  {
   "cell_type": "code",
   "execution_count": null,
   "metadata": {
    "collectable": true
   },
   "outputs": [],
   "source": [
    "################################################################\n",
    "# p1 must be replace with minimaxPlayer                        #\n",
    "################################################################\n",
    "p1 = NaivePlayer(1, 0, 0)\n",
    "p2 = NaivePlayer(2, 7, 7)\n",
    "g = Game(p1, p2)\n",
    "numberOfMatches = 1\n",
    "score1, score2 = g.start(numberOfMatches)\n",
    "print(score1/numberOfMatches)"
   ]
  },
  {
   "cell_type": "markdown",
   "metadata": {},
   "source": [
    "In this section, you need to run the game code multiple times and each time with the same numberOfMatches (this should be a large number so your answer be more reliable) once for Naive player and once for Minimax. compare these two plots in terms of shape and the main elements of the distribution. (5 points)"
   ]
  },
  {
   "cell_type": "code",
   "execution_count": null,
   "metadata": {
    "collectable": true
   },
   "outputs": [],
   "source": [
    "################################################################\n",
    "# when player1 is NaivePlayer (2.5 point)                      #\n",
    "################################################################"
   ]
  },
  {
   "cell_type": "code",
   "execution_count": null,
   "metadata": {
    "collectable": true
   },
   "outputs": [],
   "source": [
    "################################################################\n",
    "# when player1 is MinimaxPlayer (2.5 point)                    #\n",
    "################################################################"
   ]
  },
  {
   "cell_type": "markdown",
   "metadata": {},
   "source": [
    "In this section you should change the game settings for different depths and plot the number of wins in fix number of matches for these depths. Also, you should let two minimax players with diffrent depths play againts eachother and report your observation.(5 points)"
   ]
  },
  {
   "cell_type": "code",
   "execution_count": null,
   "metadata": {
    "collectable": true
   },
   "outputs": [],
   "source": [
    "################################################################\n",
    "# plot the number of wins for diffrent depths (2.5 point)      #\n",
    "################################################################"
   ]
  },
  {
   "cell_type": "code",
   "execution_count": null,
   "metadata": {
    "collectable": true
   },
   "outputs": [],
   "source": [
    "################################################################\n",
    "# start the match for two minimax players (2.5 point)          #\n",
    "################################################################"
   ]
  }
 ],
 "metadata": {
  "interpreter": {
   "hash": "f336af7d54ba0f0c1daaf2256eb85f31e983e88153daf7a27ef3ea6c724faba4"
  },
  "kernelspec": {
   "display_name": "Python 3",
   "language": "python",
   "name": "python3"
  },
  "language_info": {
   "codemirror_mode": {
    "name": "ipython",
    "version": 3
   },
   "file_extension": ".py",
   "mimetype": "text/x-python",
   "name": "python",
   "nbconvert_exporter": "python",
   "pygments_lexer": "ipython3",
   "version": "3.8.5"
  }
 },
 "nbformat": 4,
 "nbformat_minor": 4
}
